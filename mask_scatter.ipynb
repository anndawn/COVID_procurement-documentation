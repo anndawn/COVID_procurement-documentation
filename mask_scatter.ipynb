{
 "cells": [
  {
   "cell_type": "code",
   "execution_count": 1,
   "id": "aba9766c",
   "metadata": {},
   "outputs": [],
   "source": [
    "import pandas as pd\n",
    "import re"
   ]
  },
  {
   "cell_type": "code",
   "execution_count": 2,
   "id": "e98e0087",
   "metadata": {},
   "outputs": [],
   "source": [
    "df=pd.read_csv(\"data//data_original//1113_data.csv\")\n",
    "df_institution=pd.read_csv(\"data//item_department_match//institution_match.csv\")\n",
    "df_item=pd.read_csv(\"data//item_department_match//item_cleaned.csv\")"
   ]
  },
  {
   "cell_type": "code",
   "execution_count": 3,
   "id": "464a6c6a",
   "metadata": {},
   "outputs": [],
   "source": [
    "df.loc[df[\"Institution_name\"]==\"Education.\",\"Institution_name\"]=\"Gauteng - education\""
   ]
  },
  {
   "cell_type": "code",
   "execution_count": 4,
   "id": "ebd4533f",
   "metadata": {},
   "outputs": [],
   "source": [
    "df[\"Institution_name\"]=df[\"Institution_name\"].apply(lambda x:str(x).upper())\n",
    "df[\"Institution_name\"]=df[\"Institution_name\"].apply(lambda x:re.sub(r\"\\.\",\"\",x))\n",
    "df_institution[\"Original_name\"]=df_institution[\"Original_name\"].apply(lambda x:x.upper())"
   ]
  },
  {
   "cell_type": "code",
   "execution_count": 5,
   "id": "37882162",
   "metadata": {},
   "outputs": [],
   "source": [
    "df_clean_ins=pd.merge(df,df_institution,how=\"left\",left_on=\"Institution_name\",right_on=\"Original_name\") "
   ]
  },
  {
   "cell_type": "code",
   "execution_count": 6,
   "id": "dc83a27e",
   "metadata": {},
   "outputs": [],
   "source": [
    "df_use= pd.merge(df_clean_ins,df_item.loc[:,[\"Item_desp\",\"category\"]],how=\"left\",on=\"Item_desp\")\n",
    "df_use.drop(columns=[\" filter\",\"Original_name\"],inplace=True)"
   ]
  },
  {
   "cell_type": "code",
   "execution_count": 7,
   "id": "c179f19b",
   "metadata": {},
   "outputs": [],
   "source": [
    "masks_cat=['PPE001 Surgical masks for patients','PPE002 Surgical masks for health care workers','Uncategorized masks','cloth masks',\"respirator masks (FFP2, N95)\"]"
   ]
  },
  {
   "cell_type": "code",
   "execution_count": 8,
   "id": "bdbb3e71",
   "metadata": {},
   "outputs": [],
   "source": [
    "df_mask=df_use[df_use[\"category\"].isin(masks_cat)]\n",
    "df_mask.reset_index(inplace=True,drop=True)"
   ]
  },
  {
   "cell_type": "code",
   "execution_count": 9,
   "id": "e50fb9a1",
   "metadata": {},
   "outputs": [
    {
     "name": "stderr",
     "output_type": "stream",
     "text": [
      "C:\\Users\\hanzh\\anaconda3\\lib\\site-packages\\pandas\\core\\indexing.py:1773: SettingWithCopyWarning: \n",
      "A value is trying to be set on a copy of a slice from a DataFrame.\n",
      "Try using .loc[row_indexer,col_indexer] = value instead\n",
      "\n",
      "See the caveats in the documentation: https://pandas.pydata.org/pandas-docs/stable/user_guide/indexing.html#returning-a-view-versus-a-copy\n",
      "  self._setitem_single_column(ilocs[0], value, pi)\n"
     ]
    }
   ],
   "source": [
    "df_mask.loc[~df_mask[\"Unit_price\"].isna(),\"Unit_price\"]=df_mask.loc[~df_mask[\"Unit_price\"].isna(),\"Unit_price\"].apply(lambda x: re.sub(\",\",\"\",x))\n",
    "df_mask.loc[:,\"Unit_price\"]=df_mask.loc[:,\"Unit_price\"].apply(lambda x: pd.to_numeric(x,errors=\"coerce\"))"
   ]
  },
  {
   "cell_type": "code",
   "execution_count": 10,
   "id": "6d6aebf8",
   "metadata": {},
   "outputs": [],
   "source": [
    "df_mask.loc[:,\"Quantity\"]=df_mask.loc[:,\"Quantity\"].map(lambda x: re.sub(r'\\D', '', str(x)))\n",
    "df_mask.loc[:,\"Quantity\"]=df_mask.loc[:,\"Quantity\"].apply(lambda x: pd.to_numeric(x,errors=\"coerce\"))"
   ]
  },
  {
   "cell_type": "code",
   "execution_count": 11,
   "id": "2d15e70a",
   "metadata": {},
   "outputs": [],
   "source": [
    "filter_numeric=(~df_mask[\"Quantity\"].isna())&(df_mask[\"Unit_price\"]>0)\n",
    "filter_department=(~df_mask[\"Cleaned_name\"].isna())\n",
    "filter_amount=(df_mask[\"order_num\"]>0)|(df_mask[\"pay_num\"]>0)"
   ]
  },
  {
   "cell_type": "code",
   "execution_count": 12,
   "id": "bf29b100",
   "metadata": {},
   "outputs": [
    {
     "data": {
      "text/plain": [
       "array(['Each', 'Box of 50', 'Other UOM', 'Box of 100', 'EA', '0', 'BOX',\n",
       "       'Box of 10',\n",
       "       'Function:Finance and Administration:Core Function:Finance: Default',\n",
       "       'Each (Box of 10)', 'Surgical Face Mask with ties - 50 P/Box',\n",
       "       'Pack of 10', 'Box 50', 'Pair', 'Box of 20', 'Pack of 50',\n",
       "       'Each (Box of 50)', '1', 'Box of 100 gloves', '945', 'Per pair',\n",
       "       'Surgical Face Mask - 50 P/Box', 'Surgical Face Mask - Box of 100',\n",
       "       'per m2', '50 units per Box', '120', '210',\n",
       "       'Cloth - Face mask - Emfuleni Logo', '3 Ply Surgical Mask', 'Unit',\n",
       "       'BX',\n",
       "       'Function:Public Safety:Core Function:Fire Fighting and Protection: Fire Fighting and Protection 6.3',\n",
       "       'Function:Water Management:Core Function:Water Distribution',\n",
       "       'Function:Waste Management:Core Function:Solid Waste Removal',\n",
       "       '300', 'Pac', '5 Litre'], dtype=object)"
      ]
     },
     "execution_count": 12,
     "metadata": {},
     "output_type": "execute_result"
    }
   ],
   "source": [
    "df_mask.UOM.unique()"
   ]
  },
  {
   "cell_type": "code",
   "execution_count": 13,
   "id": "badee85e",
   "metadata": {},
   "outputs": [],
   "source": [
    "unit_100=['Box of 100','Pack of 100','100 per box','BOX 100','100 in 1 box','1 box of 100s','100 in 1 box','(100 per pack)','100 pcs per box', '(100 per box )','(BOX100)','(A box of 100)']\n",
    "unit_50=['Box of 50','Pack of 50','Box 50','Each (Box of 50)','50 units per Box','Pack of 50','(A box of 50)','50 in a box']\n",
    "unit_10=['Box of 10','Each (Box of 10)','Pack of 10']\n",
    "unit_20=['Box of 20','pack of 20']\n",
    "unit_1=[\"Each\",\"EA\",\"1\"]"
   ]
  },
  {
   "cell_type": "code",
   "execution_count": 14,
   "id": "46970c0a",
   "metadata": {},
   "outputs": [
    {
     "name": "stderr",
     "output_type": "stream",
     "text": [
      "C:\\Users\\hanzh\\anaconda3\\lib\\site-packages\\pandas\\core\\indexing.py:1684: SettingWithCopyWarning: \n",
      "A value is trying to be set on a copy of a slice from a DataFrame.\n",
      "Try using .loc[row_indexer,col_indexer] = value instead\n",
      "\n",
      "See the caveats in the documentation: https://pandas.pydata.org/pandas-docs/stable/user_guide/indexing.html#returning-a-view-versus-a-copy\n",
      "  self.obj[key] = infer_fill_value(value)\n",
      "C:\\Users\\hanzh\\anaconda3\\lib\\site-packages\\pandas\\core\\indexing.py:1817: SettingWithCopyWarning: \n",
      "A value is trying to be set on a copy of a slice from a DataFrame.\n",
      "Try using .loc[row_indexer,col_indexer] = value instead\n",
      "\n",
      "See the caveats in the documentation: https://pandas.pydata.org/pandas-docs/stable/user_guide/indexing.html#returning-a-view-versus-a-copy\n",
      "  self._setitem_single_column(loc, value, pi)\n"
     ]
    }
   ],
   "source": [
    "df_mask.loc[df_mask[\"UOM\"].isin(unit_100),\"No_per_unit\"]=100\n",
    "df_mask.loc[df_mask[\"UOM\"].isin(unit_50),\"No_per_unit\"]=50\n",
    "df_mask.loc[df_mask[\"UOM\"].isin(unit_10),\"No_per_unit\"]=10\n",
    "df_mask.loc[df_mask[\"UOM\"].isin(unit_20),\"No_per_unit\"]=20\n",
    "df_mask.loc[df_mask[\"UOM\"].isin(unit_1),\"No_per_unit\"]=1"
   ]
  },
  {
   "cell_type": "code",
   "execution_count": 15,
   "id": "ba1d5785",
   "metadata": {},
   "outputs": [],
   "source": [
    "filter_unit=(~df_mask[\"No_per_unit\"].isna())\n",
    "filter_date=(~df_mask[\"Date_order\"].str.contains(\"6484|8516|8517|8514\",na=False))&(~df_mask[\"Date_payments\"].str.contains(\"6484|8516|8517|8514\",na=False))"
   ]
  },
  {
   "cell_type": "code",
   "execution_count": 16,
   "id": "ae849586",
   "metadata": {},
   "outputs": [],
   "source": [
    "df_mask_filter=df_mask[(filter_numeric)&(filter_unit)&(filter_department)&(filter_date)&(filter_amount)].copy()\n",
    "df_mask_filter[\"price_per_mask\"]=df_mask_filter[\"Unit_price\"]/df_mask_filter[\"No_per_unit\"]\n",
    "df_mask_filter[\"real_quan\"]=df_mask_filter[\"Quantity\"]*df_mask_filter[\"No_per_unit\"]\n",
    "df_mask_filter.reset_index(inplace=True,drop=True)"
   ]
  },
  {
   "cell_type": "code",
   "execution_count": 17,
   "id": "d1524c2b",
   "metadata": {},
   "outputs": [],
   "source": [
    "filter_yaxis=(df_mask_filter[\"price_per_mask\"]<=400)\n",
    "filter_xaxis=(df_mask_filter[\"Date_order\"].str.contains(\"2020\"))\n",
    "df_viz=df_mask_filter.loc[filter_yaxis&filter_xaxis,:].copy()"
   ]
  },
  {
   "cell_type": "code",
   "execution_count": 18,
   "id": "1fde341f",
   "metadata": {},
   "outputs": [],
   "source": [
    "df_viz.loc[:,\"Date_order\"]=df_viz.loc[:,\"Date_order\"].apply(lambda x:pd.to_datetime(x, format='%d/%m/%Y'))\n",
    "df_viz.loc[:,\"Date_order\"]=df_viz.loc[:,\"Date_order\"].dt.strftime(\"%Y-%m-%d\")\n",
    "df_viz.loc[:,\"Date_payments\"]=df_viz.loc[:,\"Date_payments\"].apply(lambda x:pd.to_datetime(x, format='%d/%m/%Y'))\n",
    "df_viz.loc[:,\"Date_payments\"]=df_viz.loc[:,\"Date_payments\"].dt.strftime(\"%Y-%m-%d\")"
   ]
  },
  {
   "cell_type": "code",
   "execution_count": 19,
   "id": "d89f6d4f",
   "metadata": {},
   "outputs": [],
   "source": [
    "df_viz.rename(columns={\"Item_desp\":\"Item_d\",\"category\":\"Item_desp\",\"Cleaned_name\":\"cleaned_name\"},inplace=True)"
   ]
  },
  {
   "cell_type": "code",
   "execution_count": 20,
   "id": "d9f3576e",
   "metadata": {},
   "outputs": [],
   "source": [
    "df_viz.reset_index(inplace=True,drop=True)"
   ]
  },
  {
   "cell_type": "code",
   "execution_count": 21,
   "id": "317bf66b",
   "metadata": {},
   "outputs": [],
   "source": [
    "df_viz.to_csv(\"data//data_viz//mask.csv\")"
   ]
  },
  {
   "cell_type": "code",
   "execution_count": null,
   "id": "c8b97864",
   "metadata": {},
   "outputs": [],
   "source": []
  }
 ],
 "metadata": {
  "kernelspec": {
   "display_name": "Python 3 (ipykernel)",
   "language": "python",
   "name": "python3"
  },
  "language_info": {
   "codemirror_mode": {
    "name": "ipython",
    "version": 3
   },
   "file_extension": ".py",
   "mimetype": "text/x-python",
   "name": "python",
   "nbconvert_exporter": "python",
   "pygments_lexer": "ipython3",
   "version": "3.9.7"
  }
 },
 "nbformat": 4,
 "nbformat_minor": 5
}
